{
  "cells": [
    {
      "cell_type": "code",
      "execution_count": null,
      "metadata": {
        "colab": {
          "base_uri": "https://localhost:8080/"
        },
        "id": "66Zw-VBj4f8A",
        "outputId": "41aa4e8e-187d-42ea-e45e-60b7c1e22fe5"
      },
      "outputs": [],
      "source": [
        "from sklearn.datasets import fetch_california_housing\n",
        "\n",
        "# Load the dataset\n",
        "california_housing = fetch_california_housing()\n",
        "\n",
        "# View dataset description\n",
        "print(california_housing.DESCR)\n",
        "\n",
        "# Get feature names\n",
        "print(california_housing.feature_names)\n",
        "\n",
        "# Access data and target\n",
        "X = california_housing.data\n",
        "y = california_housing.target\n",
        "\n",
        "print(X.shape, y.shape)  # Check dimensions\n"
      ]
    },
    {
      "cell_type": "code",
      "execution_count": null,
      "metadata": {
        "id": "n2_P_9Eh5GzC"
      },
      "outputs": [],
      "source": [
        "import pandas as pd\n",
        "import numpy as np"
      ]
    },
    {
      "cell_type": "code",
      "execution_count": null,
      "metadata": {
        "id": "2ApgmfCx53_U"
      },
      "outputs": [],
      "source": [
        "import pandas as pd\n",
        "import numpy as np\n",
        "import seaborn as sns\n",
        "import matplotlib.pyplot as plt\n",
        "from sklearn.datasets import fetch_california_housing\n",
        "from sklearn.preprocessing import StandardScaler"
      ]
    },
    {
      "cell_type": "code",
      "execution_count": null,
      "metadata": {
        "colab": {
          "base_uri": "https://localhost:8080/"
        },
        "id": "uyEYIYPh40LD",
        "outputId": "f1d07dec-a9d0-4a63-dac7-aee126f7f0e5"
      },
      "outputs": [],
      "source": [
        "# Convert to DataFrame\n",
        "df = pd.DataFrame(california_housing.data, columns=california_housing.feature_names)\n",
        "\n",
        "# Add target variable\n",
        "df[\"MedHouseVal\"] = california_housing.target\n",
        "\n",
        "# Display the first few rows\n",
        "print(df.head())"
      ]
    },
    {
      "cell_type": "code",
      "execution_count": null,
      "metadata": {
        "colab": {
          "base_uri": "https://localhost:8080/"
        },
        "id": "6d6JsuIX5iyP",
        "outputId": "d8ece7b2-ae68-4a9f-c67f-844f2eeda7f4"
      },
      "outputs": [],
      "source": [
        "# Exploratory Data Analysis (EDA)\n",
        "print(df.info())  # Data types and missing values"
      ]
    },
    {
      "cell_type": "code",
      "execution_count": null,
      "metadata": {
        "colab": {
          "base_uri": "https://localhost:8080/"
        },
        "id": "XdA7R1zZ5oOj",
        "outputId": "edbfd837-f9ad-4ee3-e366-f2aa3a4f4c36"
      },
      "outputs": [],
      "source": [
        "print(df.describe())  # Summary statistics"
      ]
    },
    {
      "cell_type": "code",
      "execution_count": null,
      "metadata": {
        "colab": {
          "base_uri": "https://localhost:8080/"
        },
        "id": "pglwM_D-5i1Z",
        "outputId": "f3fba425-070b-4a14-8775-514eda44389c"
      },
      "outputs": [],
      "source": [
        "print(df.isnull().sum())  # Check missing values"
      ]
    },
    {
      "cell_type": "code",
      "execution_count": null,
      "metadata": {
        "id": "yxk9RtQ15i49"
      },
      "outputs": [],
      "source": [
        "# Handle missing values (if any)\n",
        "df = df.dropna()  # California housing dataset typically has no missing values"
      ]
    },
    {
      "cell_type": "code",
      "execution_count": null,
      "metadata": {
        "id": "lhT4VNj150s3"
      },
      "outputs": [],
      "source": [
        "# Feature Engineering: Scaling numerical features\n",
        "scaler = StandardScaler()\n",
        "scaled_features = scaler.fit_transform(df.drop(columns=[\"MedHouseVal\"]))\n",
        "df_scaled = pd.DataFrame(scaled_features, columns=df.columns[:-1])\n",
        "df_scaled[\"MedHouseVal\"] = df[\"MedHouseVal\"]"
      ]
    },
    {
      "cell_type": "code",
      "execution_count": null,
      "metadata": {
        "colab": {
          "base_uri": "https://localhost:8080/",
          "height": 624
        },
        "id": "cIKUcXDy5EVz",
        "outputId": "0ab747bc-0406-4bd2-a6ed-1d65c89a7b99"
      },
      "outputs": [],
      "source": [
        "# Correlation Matrix Visualization\n",
        "plt.figure(figsize=(10, 6))\n",
        "sns.heatmap(df.corr(), annot=True, cmap=\"coolwarm\", fmt=\".2f\")\n",
        "plt.title(\"Feature Correlation Heatmap\")\n",
        "plt.show()"
      ]
    },
    {
      "cell_type": "code",
      "execution_count": null,
      "metadata": {
        "colab": {
          "base_uri": "https://localhost:8080/",
          "height": 873
        },
        "id": "Ot5sZqNx5ghQ",
        "outputId": "acd6d4f2-6552-4a34-cedf-005bfad24dae"
      },
      "outputs": [],
      "source": [
        "# Pairplot to visualize relationships with the target variable\n",
        "sns.pairplot(df.sample(500), diag_kind=\"kde\", plot_kws={\"alpha\": 0.5})\n",
        "plt.show()"
      ]
    },
    {
      "cell_type": "code",
      "execution_count": null,
      "metadata": {
        "id": "A8X4NxoQB0gq"
      },
      "outputs": [],
      "source": [
        "import pandas as pd\n",
        "import numpy as np\n",
        "import seaborn as sns\n",
        "import matplotlib.pyplot as plt\n",
        "from sklearn.datasets import fetch_california_housing\n",
        "from sklearn.model_selection import train_test_split,GridSearchCV, RandomizedSearchCV\n",
        "from sklearn.preprocessing import StandardScaler\n",
        "from sklearn.linear_model import LinearRegression\n",
        "from sklearn.tree import DecisionTreeRegressor\n",
        "from sklearn.ensemble import RandomForestRegressor\n",
        "from xgboost import XGBRegressor\n",
        "from sklearn.metrics import mean_squared_error, mean_absolute_error, r2_score"
      ]
    },
    {
      "cell_type": "code",
      "execution_count": null,
      "metadata": {
        "id": "aRTR9m_3B0jz"
      },
      "outputs": [],
      "source": [
        "# Split dataset into features and target\n",
        "X = df.drop(columns=[\"MedHouseVal\"])\n",
        "y = df[\"MedHouseVal\"]"
      ]
    },
    {
      "cell_type": "code",
      "execution_count": null,
      "metadata": {
        "id": "-pKb8W9xB4Yz"
      },
      "outputs": [],
      "source": [
        "# Split into training (80%) and testing (20%) sets\n",
        "X_train, X_test, y_train, y_test = train_test_split(X, y, test_size=0.2, random_state=42)"
      ]
    },
    {
      "cell_type": "code",
      "execution_count": null,
      "metadata": {
        "id": "ILVodd3jB0nO"
      },
      "outputs": [],
      "source": [
        "# Feature scaling\n",
        "scaler = StandardScaler()\n",
        "X_train_scaled = scaler.fit_transform(X_train)\n",
        "X_test_scaled = scaler.transform(X_test)"
      ]
    },
    {
      "cell_type": "code",
      "execution_count": null,
      "metadata": {
        "id": "GZ2hj4UFCHOb"
      },
      "outputs": [],
      "source": [
        "# Initialize models\n",
        "models = {\n",
        "    \"Linear Regression\": LinearRegression(),\n",
        "    \"Decision Tree\": DecisionTreeRegressor(random_state=42),\n",
        "    \"Random Forest\": RandomForestRegressor(n_estimators=100, random_state=42),\n",
        "    \"XGBoost\": XGBRegressor(objective=\"reg:squarederror\", n_estimators=100, random_state=42),\n",
        "        }"
      ]
    },
    {
      "cell_type": "code",
      "execution_count": null,
      "metadata": {
        "id": "q0T3rYVzCHRt"
      },
      "outputs": [],
      "source": [
        "# Train and evaluate models\n",
        "results = []\n",
        "for name, model in models.items():\n",
        "    model.fit(X_train_scaled, y_train)\n",
        "    y_pred = model.predict(X_test_scaled)\n",
        "\n",
        "    rmse = np.sqrt(mean_squared_error(y_test, y_pred))\n",
        "    mae = mean_absolute_error(y_test, y_pred)\n",
        "    r2 = r2_score(y_test, y_pred)\n",
        "\n",
        "    results.append({\"Model\": name, \"RMSE\": rmse, \"MAE\": mae, \"R² Score\": r2})"
      ]
    },
    {
      "cell_type": "code",
      "execution_count": null,
      "metadata": {
        "colab": {
          "base_uri": "https://localhost:8080/"
        },
        "id": "q2ZQtu3k6G31",
        "outputId": "cb42fa2f-43d8-4931-cb44-0cb7ef3c2ce1"
      },
      "outputs": [],
      "source": [
        "# Convert results to a DataFrame and display\n",
        "results_df = pd.DataFrame(results).sort_values(by=\"RMSE\")\n",
        "print(results_df)"
      ]
    },
    {
      "cell_type": "code",
      "execution_count": null,
      "metadata": {
        "colab": {
          "base_uri": "https://localhost:8080/",
          "height": 570
        },
        "id": "rOdQDziVCFyz",
        "outputId": "9dac346c-55e7-4ee0-caaa-ce25faf312d9"
      },
      "outputs": [],
      "source": [
        "# Visualization of model performance\n",
        "plt.figure(figsize=(10, 5))\n",
        "sns.barplot(x=\"Model\", y=\"RMSE\", data=results_df,hue=\"Model\", palette=\"viridis\", legend=False)\n",
        "plt.title(\"Model Comparison: RMSE\")\n",
        "plt.ylabel(\"RMSE\")\n",
        "plt.xticks(rotation=45)\n",
        "plt.show()"
      ]
    },
    {
      "cell_type": "code",
      "execution_count": null,
      "metadata": {
        "id": "vzJg0ONfDG1a"
      },
      "outputs": [],
      "source": [
        "### Hyperparameter tuning using GridSearchCV and RandomizedSearchCV\n",
        "\n",
        "# Random Forest Hyperparameter Tuning\n",
        "rf_params = {\n",
        "    \"n_estimators\": [50, 100, 200],\n",
        "    \"max_depth\": [10, 20, None],\n",
        "    \"min_samples_split\": [2, 5, 10],\n",
        "    \"min_samples_leaf\": [1, 2, 4]\n",
        "}\n",
        "\n",
        "rf = RandomForestRegressor(random_state=42)\n",
        "rf_search = RandomizedSearchCV(rf, rf_params, n_iter=10, scoring=\"neg_mean_squared_error\", cv=3, random_state=42, n_jobs=-1)\n",
        "rf_search.fit(X_train_scaled, y_train)\n",
        "best_rf = rf_search.best_estimator_"
      ]
    },
    {
      "cell_type": "code",
      "execution_count": null,
      "metadata": {
        "id": "TwurwqQSDG5B"
      },
      "outputs": [],
      "source": [
        "# XGBoost Hyperparameter Tuning\n",
        "xgb_params = {\n",
        "    \"n_estimators\": [50, 100, 200],\n",
        "    \"learning_rate\": [0.01, 0.1, 0.2],\n",
        "    \"max_depth\": [3, 6, 10],\n",
        "    \"subsample\": [0.7, 0.8, 1.0]\n",
        "}\n",
        "\n",
        "xgb = XGBRegressor(objective=\"reg:squarederror\", random_state=42)\n",
        "xgb_search = GridSearchCV(xgb, xgb_params, scoring=\"neg_mean_squared_error\", cv=3, n_jobs=-1)\n",
        "xgb_search.fit(X_train_scaled, y_train)\n",
        "best_xgb = xgb_search.best_estimator_"
      ]
    },
    {
      "cell_type": "code",
      "execution_count": null,
      "metadata": {
        "id": "-FBIeu0uDG8c"
      },
      "outputs": [],
      "source": [
        "# Evaluate Models\n",
        "models = {\n",
        "    \"Optimized Random Forest\": best_rf,\n",
        "    \"Optimized XGBoost\": best_xgb\n",
        "}\n",
        "\n",
        "results = []\n",
        "for name, model in models.items():\n",
        "    y_pred = model.predict(X_test_scaled)\n",
        "    rmse = np.sqrt(mean_squared_error(y_test, y_pred))\n",
        "    mae = mean_absolute_error(y_test, y_pred)\n",
        "    r2 = r2_score(y_test, y_pred)\n",
        "\n",
        "    results.append({\"Model\": name, \"RMSE\": rmse, \"MAE\": mae, \"R² Score\": r2})"
      ]
    },
    {
      "cell_type": "code",
      "execution_count": null,
      "metadata": {
        "colab": {
          "base_uri": "https://localhost:8080/"
        },
        "id": "8746PnrQDpch",
        "outputId": "cc02c064-265a-455e-df09-65645ae591b7"
      },
      "outputs": [],
      "source": [
        "# Convert results to a DataFrame and display\n",
        "results_df = pd.DataFrame(results).sort_values(by=\"RMSE\")\n",
        "print(results_df)"
      ]
    },
    {
      "cell_type": "code",
      "execution_count": null,
      "metadata": {
        "colab": {
          "base_uri": "https://localhost:8080/",
          "height": 610
        },
        "id": "22tG_vfGDyws",
        "outputId": "3bd1db72-b116-4816-9fb5-0ea59799c749"
      },
      "outputs": [],
      "source": [
        "# Visualization of model performance\n",
        "plt.figure(figsize=(10, 5))\n",
        "sns.barplot(x=\"Model\", y=\"RMSE\", data=results_df, hue=\"Model\", palette=\"viridis\", legend=False)\n",
        "plt.title(\"Optimized Model Comparison: RMSE\")\n",
        "plt.ylabel(\"RMSE\")\n",
        "plt.xticks(rotation=45)\n",
        "plt.show()"
      ]
    },
    {
      "cell_type": "code",
      "execution_count": null,
      "metadata": {
        "colab": {
          "base_uri": "https://localhost:8080/"
        },
        "id": "Fap67hovHKhQ",
        "outputId": "be988b81-0ab9-4b7f-9f12-693aaa837f92"
      },
      "outputs": [],
      "source": [
        "import pickle\n",
        "import joblib\n",
        "\n",
        "# Save using Pickle\n",
        "with open(\"random_forest_model.pkl\", \"wb\") as f:\n",
        "    pickle.dump(best_rf, f)\n",
        "\n",
        "with open(\"xgboost_model.pkl\", \"wb\") as f:\n",
        "    pickle.dump(best_xgb, f)\n",
        "\n",
        "# Save using Joblib (recommended for large models)\n",
        "joblib.dump(best_rf, \"random_forest_model.joblib\")\n",
        "joblib.dump(best_xgb, \"xgboost_model.joblib\")\n",
        "\n",
        "print(\"Models saved successfully!\")\n"
      ]
    },
    {
      "cell_type": "code",
      "execution_count": null,
      "metadata": {
        "colab": {
          "base_uri": "https://localhost:8080/"
        },
        "id": "bhqrXZDdHKkr",
        "outputId": "7c9e0d11-4d8c-4092-d523-39e8b61c0649"
      },
      "outputs": [],
      "source": [
        "!pip install fastapi uvicorn nest-asyncio pyngrok joblib pydantic scikit-learn\n",
        "\n"
      ]
    },
    {
      "cell_type": "code",
      "execution_count": null,
      "metadata": {
        "id": "rBHfseZBH1aM"
      },
      "outputs": [],
      "source": [
        "from fastapi import FastAPI\n",
        "import joblib\n",
        "import numpy as np\n",
        "from pydantic import BaseModel"
      ]
    },
    {
      "cell_type": "code",
      "execution_count": null,
      "metadata": {
        "id": "EveC32_mH7pN"
      },
      "outputs": [],
      "source": [
        "# Load trained model and scaler\n",
        "model = joblib.load(\"random_forest_model.joblib\")  # Load the optimized model\n",
        "# scaler = joblib.load(\"scaler.joblib\")  # Save and load the StandardScaler if used"
      ]
    },
    {
      "cell_type": "code",
      "execution_count": null,
      "metadata": {
        "id": "fX3VZU3OH_8r"
      },
      "outputs": [],
      "source": [
        "# Initialize FastAPI app\n",
        "app = FastAPI()"
      ]
    },
    {
      "cell_type": "code",
      "execution_count": null,
      "metadata": {
        "id": "86TcmXm4IKXP"
      },
      "outputs": [],
      "source": [
        "# Define request model\n",
        "class HouseFeatures(BaseModel):\n",
        "    MedInc: float\n",
        "    HouseAge: float\n",
        "    AveRooms: float\n",
        "    AveBedrms: float\n",
        "    Population: float\n",
        "    AveOccup: float\n",
        "    Latitude: float\n",
        "    Longitude: float"
      ]
    },
    {
      "cell_type": "code",
      "execution_count": null,
      "metadata": {
        "id": "nEBjHZ75INOJ"
      },
      "outputs": [],
      "source": [
        "# Define prediction endpoint\n",
        "@app.post(\"/predict\")\n",
        "def predict_price(features: HouseFeatures):\n",
        "    # Convert input data to NumPy array\n",
        "    input_data = np.array([[features.MedInc, features.HouseAge, features.AveRooms,\n",
        "                            features.AveBedrms, features.Population, features.AveOccup,\n",
        "                            features.Latitude, features.Longitude]])\n",
        "\n",
        "    # Scale input data\n",
        "    input_scaled = scaler.transform(input_data)\n",
        "\n",
        "    # Make prediction\n",
        "    prediction = model.predict(input_scaled)\n",
        "\n",
        "    return {\"predicted_price\": prediction[0]}"
      ]
    },
    {
      "cell_type": "code",
      "execution_count": null,
      "metadata": {
        "colab": {
          "base_uri": "https://localhost:8080/"
        },
        "id": "HEKLgyz3IVdm",
        "outputId": "e563fef0-e2bb-4586-ff6a-4470674ecfb7"
      },
      "outputs": [],
      "source": [
        "!pip install uvicorn"
      ]
    },
    {
      "cell_type": "code",
      "execution_count": null,
      "metadata": {
        "colab": {
          "base_uri": "https://localhost:8080/"
        },
        "id": "hyRiSFPYIx3b",
        "outputId": "8edd8d63-b481-4a5a-b7e3-e171500a37a7"
      },
      "outputs": [],
      "source": [
        "import nest_asyncio\n",
        "import uvicorn\n",
        "\n",
        "# Allow running Uvicorn inside Colab\n",
        "nest_asyncio.apply()\n",
        "\n",
        "# Run the FastAPI app in the background\n",
        "!nohup uvicorn app:app --host 0.0.0.0 --port 8000 &\n"
      ]
    }
  ],
  "metadata": {
    "colab": {
      "provenance": []
    },
    "kernelspec": {
      "display_name": "Python 3",
      "name": "python3"
    },
    "language_info": {
      "name": "python"
    }
  },
  "nbformat": 4,
  "nbformat_minor": 0
}
